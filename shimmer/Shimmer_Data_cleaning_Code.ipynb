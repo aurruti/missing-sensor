{
 "cells": [
  {
   "cell_type": "code",
   "execution_count": 8,
   "id": "3b887d7c-1063-4f08-a5e7-3c2d10a8fbb1",
   "metadata": {},
   "outputs": [],
   "source": [
    "import pandas as pd\n",
    "import os\n",
    "import datetime\n",
    "import numpy as np"
   ]
  },
  {
   "cell_type": "code",
   "execution_count": 9,
   "id": "82f5c7bf-c089-43c7-9c9a-7b225902eb59",
   "metadata": {},
   "outputs": [],
   "source": [
    "# Define the activities and their durations in milliseconds\n",
    "activities = {\n",
    "    'writing by hand': None,\n",
    "    'typing on PC': None,\n",
    "    'scrolling on social media': 60000,\n",
    "    'start_standup': 10000,\n",
    "    'walk': 30000,\n",
    "    'jog': 30000,\n",
    "    'rest': 30000,\n",
    "    'start_squat': 15000,\n",
    "    'start_clap': 10000,\n",
    "    'msrc12_1': 15000,\n",
    "    'msrc12_2': 15000,\n",
    "    'msrc12_3': 15000,\n",
    "    'msrc12_4': 15000,\n",
    "    'msrc12_5': 15000,\n",
    "    'msrc12_6': 15000,\n",
    "    'msrc12_7': 15000,\n",
    "    'msrc12_8': 15000,\n",
    "    'msrc12_9': 15000,\n",
    "    'msrc12_10': 15000,\n",
    "    'msrc12_11': 15000,\n",
    "    'msrc12_12': 15000\n",
    "}\n",
    "# Reverse the activities dictionary for bottom-up labeling\n",
    "activities = dict(reversed(list(activities.items())))"
   ]
  },
  {
   "cell_type": "code",
   "execution_count": 13,
   "id": "7838c8cc-f75d-49c8-a495-8df48a8b013b",
   "metadata": {},
   "outputs": [
    {
     "name": "stderr",
     "output_type": "stream",
     "text": [
      "C:\\Users\\S\\AppData\\Local\\Temp\\ipykernel_496\\1620268347.py:6: PerformanceWarning: dropping on a non-lexsorted multi-index without a level parameter may impact performance.\n",
      "  df = df.drop('Unnamed: 19_level_0', axis=1)\n",
      "C:\\Users\\S\\AppData\\Local\\Temp\\ipykernel_496\\1620268347.py:6: PerformanceWarning: dropping on a non-lexsorted multi-index without a level parameter may impact performance.\n",
      "  df = df.drop('Unnamed: 19_level_0', axis=1)\n"
     ]
    }
   ],
   "source": [
    "# Loop over the files\n",
    "for i in range(1,21):\n",
    "    file_name = f'P{i}_Session1_Shimmer_C9EB_Calibrated_SD.csv'\n",
    "    file_path = os.path.join('Shimmer_Data', file_name)\n",
    "    df = pd.read_csv(file_path, header=[1,2], sep='\\t')\n",
    "    df = df.drop('Unnamed: 19_level_0', axis=1)\n",
    "    new_headers = df.columns.map('_'.join)\n",
    "    df.columns = new_headers\n",
    "    df['time'] = pd.to_datetime(df['Shimmer_C9EB_Timestamp_Unix_CAL_ms'], unit='ms')\n",
    "\n",
    "    # Add a new column for activity labels\n",
    "    df['Activity'] = None\n",
    "\n",
    "    # Convert the time column to datetime\n",
    "    df['time'] = pd.to_datetime(df['time'])\n",
    "\n",
    "    # Label the rows\n",
    "    start_time = df['time'].iloc[-1]  # Start from the last time\n",
    "    for activity, duration in activities.items():\n",
    "        if duration is not None:\n",
    "            end_time = start_time - pd.Timedelta(milliseconds=duration)\n",
    "            df.loc[(df['time'] <= start_time) & (df['time'] > end_time), 'Activity'] = activity\n",
    "            start_time = end_time\n",
    "\n",
    "    # Create a directory for each session\n",
    "    output_dir = os.path.join('Output', f'Session{i}')\n",
    "    os.makedirs(output_dir, exist_ok=True)\n",
    "\n",
    "    # Save the labeled data into separate CSV files based on the labels\n",
    "    for label in df['Activity'].unique():\n",
    "        if label is not None:\n",
    "            df_label = df[df['Activity'] == label]\n",
    "            output_file_path = os.path.join(output_dir, f'{label}.csv')\n",
    "            df_label.to_csv(output_file_path, index=False)"
   ]
  },
  {
   "cell_type": "code",
   "execution_count": null,
   "id": "76cf0365-117f-4d56-aa89-f068561ebcdb",
   "metadata": {},
   "outputs": [],
   "source": []
  },
  {
   "cell_type": "code",
   "execution_count": null,
   "id": "f2869d3f-89f0-4e65-91f4-4fbcdce1506a",
   "metadata": {},
   "outputs": [],
   "source": []
  }
 ],
 "metadata": {
  "kernelspec": {
   "display_name": "Python 3 (ipykernel)",
   "language": "python",
   "name": "python3"
  },
  "language_info": {
   "codemirror_mode": {
    "name": "ipython",
    "version": 3
   },
   "file_extension": ".py",
   "mimetype": "text/x-python",
   "name": "python",
   "nbconvert_exporter": "python",
   "pygments_lexer": "ipython3",
   "version": "3.12.1"
  }
 },
 "nbformat": 4,
 "nbformat_minor": 5
}
